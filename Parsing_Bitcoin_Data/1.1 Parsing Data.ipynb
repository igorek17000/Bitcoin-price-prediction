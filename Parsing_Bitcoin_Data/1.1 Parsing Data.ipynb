{
 "cells": [
  {
   "cell_type": "markdown",
   "id": "43f54059",
   "metadata": {},
   "source": [
    "## 🔬 🧬 Parsing Bitcoin Price Data\n",
    "\n",
    "### 📝 Imports"
   ]
  },
  {
   "cell_type": "code",
   "execution_count": 23,
   "id": "6871fd19",
   "metadata": {},
   "outputs": [],
   "source": [
    "import pandas as pd\n",
    "\n",
    "import matplotlib.pyplot as plt\n",
    "import seaborn as sns\n",
    "import plotly.graph_objects as go\n",
    "import plotly.express as px\n",
    "from plotly.subplots import make_subplots\n",
    "\n",
    "import pandas as pd\n",
    "import requests\n",
    "import time\n",
    "from datetime import datetime, timedelta\n",
    "\n",
    "import yfinance as yf\n",
    "\n",
    "import warnings\n",
    "warnings.filterwarnings('ignore')"
   ]
  },
  {
   "cell_type": "markdown",
   "id": "9bd750b6",
   "metadata": {},
   "source": [
    "---\n",
    "\n",
    "## 🔮 📝 Historical Data 2011-2020 in minutes"
   ]
  },
  {
   "cell_type": "code",
   "execution_count": 2,
   "id": "5ac60354",
   "metadata": {},
   "outputs": [
    {
     "data": {
      "text/html": [
       "<div>\n",
       "<style scoped>\n",
       "    .dataframe tbody tr th:only-of-type {\n",
       "        vertical-align: middle;\n",
       "    }\n",
       "\n",
       "    .dataframe tbody tr th {\n",
       "        vertical-align: top;\n",
       "    }\n",
       "\n",
       "    .dataframe thead th {\n",
       "        text-align: right;\n",
       "    }\n",
       "</style>\n",
       "<table border=\"1\" class=\"dataframe\">\n",
       "  <thead>\n",
       "    <tr style=\"text-align: right;\">\n",
       "      <th></th>\n",
       "      <th>unix</th>\n",
       "      <th>date</th>\n",
       "      <th>open</th>\n",
       "      <th>high</th>\n",
       "      <th>low</th>\n",
       "      <th>close</th>\n",
       "      <th>volume</th>\n",
       "    </tr>\n",
       "  </thead>\n",
       "  <tbody>\n",
       "    <tr>\n",
       "      <th>0</th>\n",
       "      <td>1325317920</td>\n",
       "      <td>2011-12-31 09:52:00</td>\n",
       "      <td>4.39</td>\n",
       "      <td>4.39</td>\n",
       "      <td>4.39</td>\n",
       "      <td>4.39</td>\n",
       "      <td>2.000000</td>\n",
       "    </tr>\n",
       "    <tr>\n",
       "      <th>1</th>\n",
       "      <td>1325346600</td>\n",
       "      <td>2011-12-31 17:50:00</td>\n",
       "      <td>4.39</td>\n",
       "      <td>4.39</td>\n",
       "      <td>4.39</td>\n",
       "      <td>4.39</td>\n",
       "      <td>210.720000</td>\n",
       "    </tr>\n",
       "    <tr>\n",
       "      <th>2</th>\n",
       "      <td>1325350740</td>\n",
       "      <td>2011-12-31 18:59:00</td>\n",
       "      <td>4.50</td>\n",
       "      <td>4.57</td>\n",
       "      <td>4.50</td>\n",
       "      <td>4.57</td>\n",
       "      <td>171.380338</td>\n",
       "    </tr>\n",
       "    <tr>\n",
       "      <th>3</th>\n",
       "      <td>1325350800</td>\n",
       "      <td>2011-12-31 19:00:00</td>\n",
       "      <td>4.58</td>\n",
       "      <td>4.58</td>\n",
       "      <td>4.58</td>\n",
       "      <td>4.58</td>\n",
       "      <td>41.220000</td>\n",
       "    </tr>\n",
       "    <tr>\n",
       "      <th>4</th>\n",
       "      <td>1325391360</td>\n",
       "      <td>2012-01-01 06:16:00</td>\n",
       "      <td>4.58</td>\n",
       "      <td>4.58</td>\n",
       "      <td>4.58</td>\n",
       "      <td>4.58</td>\n",
       "      <td>6.879160</td>\n",
       "    </tr>\n",
       "  </tbody>\n",
       "</table>\n",
       "</div>"
      ],
      "text/plain": [
       "         unix                date  open  high   low  close      volume\n",
       "0  1325317920 2011-12-31 09:52:00  4.39  4.39  4.39   4.39    2.000000\n",
       "1  1325346600 2011-12-31 17:50:00  4.39  4.39  4.39   4.39  210.720000\n",
       "2  1325350740 2011-12-31 18:59:00  4.50  4.57  4.50   4.57  171.380338\n",
       "3  1325350800 2011-12-31 19:00:00  4.58  4.58  4.58   4.58   41.220000\n",
       "4  1325391360 2012-01-01 06:16:00  4.58  4.58  4.58   4.58    6.879160"
      ]
     },
     "execution_count": 2,
     "metadata": {},
     "output_type": "execute_result"
    }
   ],
   "source": [
    "df_2011_2020 = pd.read_csv('data/bitstamp_cleaned.csv').drop(['Volume_(BTC)','Weighted_Price'],axis = 1)\n",
    "df_2011_2020.columns = ['unix','date','open','high','low','close','volume']\n",
    "df_2011_2020.date = df_2011_2020.unix.apply(datetime.fromtimestamp)\n",
    "\n",
    "df_2011_2020.head()"
   ]
  },
  {
   "cell_type": "code",
   "execution_count": 3,
   "id": "d6470b0d",
   "metadata": {},
   "outputs": [
    {
     "data": {
      "text/plain": [
       "(3330541, 7)"
      ]
     },
     "execution_count": 3,
     "metadata": {},
     "output_type": "execute_result"
    }
   ],
   "source": [
    "df_2011_2020.shape"
   ]
  },
  {
   "cell_type": "code",
   "execution_count": 4,
   "id": "66d6112f",
   "metadata": {},
   "outputs": [
    {
     "data": {
      "text/plain": [
       "min   2011-12-31 09:52:00\n",
       "max   2020-09-14 03:00:00\n",
       "Name: date, dtype: datetime64[ns]"
      ]
     },
     "execution_count": 4,
     "metadata": {},
     "output_type": "execute_result"
    }
   ],
   "source": [
    "df_2011_2020.date.agg(['min', 'max'])"
   ]
  },
  {
   "cell_type": "code",
   "execution_count": 5,
   "id": "6c2b3122",
   "metadata": {},
   "outputs": [],
   "source": [
    "timeStart_2020 = df_2011_2020.date.agg(['min', 'max'])[1]"
   ]
  },
  {
   "cell_type": "markdown",
   "id": "32f84cc0",
   "metadata": {},
   "source": [
    "---\n",
    "\n",
    "## 👴🏻 🔮 Historical Data 2020.11.15 - 2022-03-17 in minutes"
   ]
  },
  {
   "cell_type": "code",
   "execution_count": 6,
   "id": "63713372",
   "metadata": {},
   "outputs": [
    {
     "data": {
      "text/html": [
       "<div>\n",
       "<style scoped>\n",
       "    .dataframe tbody tr th:only-of-type {\n",
       "        vertical-align: middle;\n",
       "    }\n",
       "\n",
       "    .dataframe tbody tr th {\n",
       "        vertical-align: top;\n",
       "    }\n",
       "\n",
       "    .dataframe thead th {\n",
       "        text-align: right;\n",
       "    }\n",
       "</style>\n",
       "<table border=\"1\" class=\"dataframe\">\n",
       "  <thead>\n",
       "    <tr style=\"text-align: right;\">\n",
       "      <th></th>\n",
       "      <th>unix</th>\n",
       "      <th>date</th>\n",
       "      <th>open</th>\n",
       "      <th>high</th>\n",
       "      <th>low</th>\n",
       "      <th>close</th>\n",
       "      <th>volume</th>\n",
       "    </tr>\n",
       "  </thead>\n",
       "  <tbody>\n",
       "    <tr>\n",
       "      <th>0</th>\n",
       "      <td>1605472800000</td>\n",
       "      <td>2020-11-15 22:40:00</td>\n",
       "      <td>15850.000000</td>\n",
       "      <td>15853.000000</td>\n",
       "      <td>15849.0</td>\n",
       "      <td>15850.0</td>\n",
       "      <td>6931.354113</td>\n",
       "    </tr>\n",
       "    <tr>\n",
       "      <th>1</th>\n",
       "      <td>1605472860000</td>\n",
       "      <td>2020-11-15 22:41:00</td>\n",
       "      <td>15852.000000</td>\n",
       "      <td>15852.735754</td>\n",
       "      <td>15849.0</td>\n",
       "      <td>15850.0</td>\n",
       "      <td>7180.287699</td>\n",
       "    </tr>\n",
       "    <tr>\n",
       "      <th>2</th>\n",
       "      <td>1605472920000</td>\n",
       "      <td>2020-11-15 22:42:00</td>\n",
       "      <td>15853.389172</td>\n",
       "      <td>15854.000000</td>\n",
       "      <td>15853.0</td>\n",
       "      <td>15853.0</td>\n",
       "      <td>586.561000</td>\n",
       "    </tr>\n",
       "    <tr>\n",
       "      <th>3</th>\n",
       "      <td>1605472980000</td>\n",
       "      <td>2020-11-15 22:43:00</td>\n",
       "      <td>15854.344656</td>\n",
       "      <td>15857.000000</td>\n",
       "      <td>15853.0</td>\n",
       "      <td>15855.0</td>\n",
       "      <td>649.973000</td>\n",
       "    </tr>\n",
       "    <tr>\n",
       "      <th>4</th>\n",
       "      <td>1605473040000</td>\n",
       "      <td>2020-11-15 22:44:00</td>\n",
       "      <td>15855.000000</td>\n",
       "      <td>15856.000000</td>\n",
       "      <td>15855.0</td>\n",
       "      <td>15855.0</td>\n",
       "      <td>554.925000</td>\n",
       "    </tr>\n",
       "  </tbody>\n",
       "</table>\n",
       "</div>"
      ],
      "text/plain": [
       "            unix                date          open          high      low  \\\n",
       "0  1605472800000 2020-11-15 22:40:00  15850.000000  15853.000000  15849.0   \n",
       "1  1605472860000 2020-11-15 22:41:00  15852.000000  15852.735754  15849.0   \n",
       "2  1605472920000 2020-11-15 22:42:00  15853.389172  15854.000000  15853.0   \n",
       "3  1605472980000 2020-11-15 22:43:00  15854.344656  15857.000000  15853.0   \n",
       "4  1605473040000 2020-11-15 22:44:00  15855.000000  15856.000000  15855.0   \n",
       "\n",
       "     close       volume  \n",
       "0  15850.0  6931.354113  \n",
       "1  15850.0  7180.287699  \n",
       "2  15853.0   586.561000  \n",
       "3  15855.0   649.973000  \n",
       "4  15855.0   554.925000  "
      ]
     },
     "execution_count": 6,
     "metadata": {},
     "output_type": "execute_result"
    }
   ],
   "source": [
    "df_2020_2022 = pd.read_csv('data/BTS_USD_history_minute.csv').drop(['symbol','Volume BTC'],axis = 1)\n",
    "df_2020_2022.columns = [*df_2020_2022.columns[:-1],'volume']\n",
    "df_2020_2022.date = (df_2020_2022.unix/1000).apply(datetime.fromtimestamp)\n",
    "df_2020_2022 = df_2020_2022.sort_values('unix').reset_index(drop = True)\n",
    "df_2020_2022.head()"
   ]
  },
  {
   "cell_type": "code",
   "execution_count": 7,
   "id": "ae418359",
   "metadata": {},
   "outputs": [
    {
     "data": {
      "text/plain": [
       "(691999, 7)"
      ]
     },
     "execution_count": 7,
     "metadata": {},
     "output_type": "execute_result"
    }
   ],
   "source": [
    "df_2020_2022.shape"
   ]
  },
  {
   "cell_type": "code",
   "execution_count": 8,
   "id": "1cc6d63b",
   "metadata": {},
   "outputs": [
    {
     "data": {
      "text/plain": [
       "min   2020-11-15 22:40:00\n",
       "max   2022-03-17 08:12:00\n",
       "Name: date, dtype: datetime64[ns]"
      ]
     },
     "execution_count": 8,
     "metadata": {},
     "output_type": "execute_result"
    }
   ],
   "source": [
    "df_2020_2022.date.agg(['min', 'max']) "
   ]
  },
  {
   "cell_type": "code",
   "execution_count": 9,
   "id": "77862d56",
   "metadata": {},
   "outputs": [],
   "source": [
    "timeEnd_2020 = df_2020_2022.date.agg(['min', 'max'])[0]\n",
    "timeStart_2022 = df_2020_2022.date.agg(['min', 'max'])[1]"
   ]
  },
  {
   "cell_type": "markdown",
   "id": "3274bec7",
   "metadata": {},
   "source": [
    "---"
   ]
  },
  {
   "cell_type": "markdown",
   "id": "8b042bb2",
   "metadata": {},
   "source": [
    "# 🧑🏻‍🔬 🏃 Coinbase Parsing"
   ]
  },
  {
   "cell_type": "markdown",
   "id": "39e4f70e",
   "metadata": {},
   "source": [
    "### 🔮 Defining Functions"
   ]
  },
  {
   "cell_type": "code",
   "execution_count": 10,
   "id": "96a567fc",
   "metadata": {},
   "outputs": [],
   "source": [
    "def get_data(timeStart:str, barSize = 60)-> pd.DataFrame:\n",
    "    \n",
    "    apiUrl = 'https://api.pro.coinbase.com'\n",
    "    sym = 'BTC-USD'\n",
    "    delta = timedelta(minutes = barSize / 60)\n",
    "    timeStart = pd.to_datetime(timeStart)\n",
    "    timeEnd = timeStart + (300 * delta)\n",
    "    \n",
    "    parameters = {\n",
    "    'start': timeStart,\n",
    "    'end': timeEnd,\n",
    "    'granularity': barSize\n",
    "    }\n",
    "\n",
    "    timeStart = timeStart.isoformat()\n",
    "    timeEnd = timeEnd.isoformat()\n",
    "    \n",
    "    data = requests.get(f'{apiUrl}/products/{sym}/candles',\n",
    "                     params = parameters,\n",
    "                     headers = {'content-type':'application/json'}\n",
    "                   )\n",
    "    \n",
    "    df = pd.DataFrame(data.json(),\n",
    "                  columns = ['unix','low','high','open','close','volume']\n",
    "                 )\n",
    "    \n",
    "    df['date'] = pd.to_datetime(df.unix,unit = 's')\n",
    "    \n",
    "    return df[['unix','date','open','high','low','close','volume']].sort_values('unix').reset_index(drop = True)"
   ]
  },
  {
   "cell_type": "code",
   "execution_count": 11,
   "id": "08396f94",
   "metadata": {},
   "outputs": [],
   "source": [
    "def fill_data(timeStart):\n",
    "    data_len = 300\n",
    "    df = pd.DataFrame()\n",
    "    while data_len == 300:\n",
    "        data = get_data(timeStart)\n",
    "        df = pd.concat([df,data],ignore_index = True)\n",
    "        data_len = data.shape[0]\n",
    "        timeStart = data.date.max()\n",
    "    return df"
   ]
  },
  {
   "cell_type": "code",
   "execution_count": 12,
   "id": "1e617391",
   "metadata": {},
   "outputs": [],
   "source": [
    "def fill_data_gap(timeStart,timeEnd):\n",
    "    data_len = 300\n",
    "    df = pd.DataFrame()\n",
    "    while data_len == 300:\n",
    "        if pd.to_datetime(timeStart) + (300 * timedelta(minutes = 1)) < pd.to_datetime(timeEnd):\n",
    "            data = get_data(timeStart)\n",
    "            df = pd.concat([df,data],ignore_index = True)\n",
    "            data_len = data.shape[0]\n",
    "            timeStart = data.date.max() \n",
    "        else:\n",
    "            data = get_data(timeStart)\n",
    "            data = data[data.date < pd.to_datetime(timeEnd)]\n",
    "            df = pd.concat([df,data],ignore_index = True)\n",
    "            return df"
   ]
  },
  {
   "cell_type": "markdown",
   "id": "c1d88c01",
   "metadata": {},
   "source": [
    "### 🧑🏻‍🔬 Experiments"
   ]
  },
  {
   "cell_type": "code",
   "execution_count": 13,
   "id": "cb51e86d",
   "metadata": {},
   "outputs": [
    {
     "data": {
      "text/plain": [
       "(8692, 7)"
      ]
     },
     "execution_count": 13,
     "metadata": {},
     "output_type": "execute_result"
    }
   ],
   "source": [
    "timeStart = '2022-05-05 12:18:00'\n",
    "\n",
    "fill_data(timeStart).shape"
   ]
  },
  {
   "cell_type": "code",
   "execution_count": 14,
   "id": "e98f2f5e",
   "metadata": {},
   "outputs": [
    {
     "data": {
      "text/plain": [
       "(1439, 7)"
      ]
     },
     "execution_count": 14,
     "metadata": {},
     "output_type": "execute_result"
    }
   ],
   "source": [
    "timeStart = '2022-05-05 12:18:00'\n",
    "timeEnd = '2022-05-06 12:18:00'\n",
    "\n",
    "df_test = fill_data_gap(timeStart,timeEnd)\n",
    "df_test.shape"
   ]
  },
  {
   "cell_type": "code",
   "execution_count": 15,
   "id": "a2a069fb",
   "metadata": {},
   "outputs": [
    {
     "data": {
      "text/plain": [
       "max   2022-05-06 12:17:00\n",
       "min   2022-05-05 12:19:00\n",
       "Name: date, dtype: datetime64[ns]"
      ]
     },
     "execution_count": 15,
     "metadata": {},
     "output_type": "execute_result"
    }
   ],
   "source": [
    "df_test.date.agg({'min','max'})"
   ]
  },
  {
   "cell_type": "markdown",
   "id": "65cfc104",
   "metadata": {},
   "source": [
    "---\n",
    "\n",
    "### 🔬 🧬 Filling Data"
   ]
  },
  {
   "cell_type": "code",
   "execution_count": 16,
   "id": "50d05e97",
   "metadata": {},
   "outputs": [
    {
     "data": {
      "text/html": [
       "<div>\n",
       "<style scoped>\n",
       "    .dataframe tbody tr th:only-of-type {\n",
       "        vertical-align: middle;\n",
       "    }\n",
       "\n",
       "    .dataframe tbody tr th {\n",
       "        vertical-align: top;\n",
       "    }\n",
       "\n",
       "    .dataframe thead th {\n",
       "        text-align: right;\n",
       "    }\n",
       "</style>\n",
       "<table border=\"1\" class=\"dataframe\">\n",
       "  <thead>\n",
       "    <tr style=\"text-align: right;\">\n",
       "      <th></th>\n",
       "      <th>unix</th>\n",
       "      <th>date</th>\n",
       "      <th>open</th>\n",
       "      <th>high</th>\n",
       "      <th>low</th>\n",
       "      <th>close</th>\n",
       "      <th>volume</th>\n",
       "    </tr>\n",
       "  </thead>\n",
       "  <tbody>\n",
       "    <tr>\n",
       "      <th>0</th>\n",
       "      <td>1600052460</td>\n",
       "      <td>2020-09-14 03:01:00</td>\n",
       "      <td>10353.69</td>\n",
       "      <td>10356.03</td>\n",
       "      <td>10353.69</td>\n",
       "      <td>10356.03</td>\n",
       "      <td>0.447186</td>\n",
       "    </tr>\n",
       "    <tr>\n",
       "      <th>1</th>\n",
       "      <td>1600052520</td>\n",
       "      <td>2020-09-14 03:02:00</td>\n",
       "      <td>10356.12</td>\n",
       "      <td>10357.45</td>\n",
       "      <td>10356.12</td>\n",
       "      <td>10357.26</td>\n",
       "      <td>1.832700</td>\n",
       "    </tr>\n",
       "    <tr>\n",
       "      <th>2</th>\n",
       "      <td>1600052580</td>\n",
       "      <td>2020-09-14 03:03:00</td>\n",
       "      <td>10357.21</td>\n",
       "      <td>10357.45</td>\n",
       "      <td>10357.21</td>\n",
       "      <td>10357.45</td>\n",
       "      <td>1.451724</td>\n",
       "    </tr>\n",
       "    <tr>\n",
       "      <th>3</th>\n",
       "      <td>1600052640</td>\n",
       "      <td>2020-09-14 03:04:00</td>\n",
       "      <td>10357.45</td>\n",
       "      <td>10357.45</td>\n",
       "      <td>10357.19</td>\n",
       "      <td>10357.20</td>\n",
       "      <td>3.237631</td>\n",
       "    </tr>\n",
       "    <tr>\n",
       "      <th>4</th>\n",
       "      <td>1600052700</td>\n",
       "      <td>2020-09-14 03:05:00</td>\n",
       "      <td>10357.20</td>\n",
       "      <td>10357.45</td>\n",
       "      <td>10357.19</td>\n",
       "      <td>10357.45</td>\n",
       "      <td>1.104830</td>\n",
       "    </tr>\n",
       "  </tbody>\n",
       "</table>\n",
       "</div>"
      ],
      "text/plain": [
       "         unix                date      open      high       low     close  \\\n",
       "0  1600052460 2020-09-14 03:01:00  10353.69  10356.03  10353.69  10356.03   \n",
       "1  1600052520 2020-09-14 03:02:00  10356.12  10357.45  10356.12  10357.26   \n",
       "2  1600052580 2020-09-14 03:03:00  10357.21  10357.45  10357.21  10357.45   \n",
       "3  1600052640 2020-09-14 03:04:00  10357.45  10357.45  10357.19  10357.20   \n",
       "4  1600052700 2020-09-14 03:05:00  10357.20  10357.45  10357.19  10357.45   \n",
       "\n",
       "     volume  \n",
       "0  0.447186  \n",
       "1  1.832700  \n",
       "2  1.451724  \n",
       "3  3.237631  \n",
       "4  1.104830  "
      ]
     },
     "execution_count": 16,
     "metadata": {},
     "output_type": "execute_result"
    }
   ],
   "source": [
    "part1_2020 = fill_data_gap(timeStart_2020,timeStart_2020 + timedelta(days = 21))\n",
    "part2_2020 = fill_data_gap(timeStart_2020 + timedelta(days = 22),timeStart_2020 + timedelta(days = 36))\n",
    "part3_2020 = fill_data_gap(timeStart_2020 + timedelta(days = 37),timeStart_2020 + timedelta(days = 43))\n",
    "part4_2020 = fill_data_gap(timeStart_2020 + timedelta(days = 44),timeStart_2020 + timedelta(days = 62))\n",
    "\n",
    "df_2020 = pd.concat([part1_2020,part2_2020,part3_2020,part4_2020])\n",
    "\n",
    "df_2020.head()"
   ]
  },
  {
   "cell_type": "code",
   "execution_count": 17,
   "id": "91d02c94",
   "metadata": {},
   "outputs": [
    {
     "data": {
      "text/html": [
       "<div>\n",
       "<style scoped>\n",
       "    .dataframe tbody tr th:only-of-type {\n",
       "        vertical-align: middle;\n",
       "    }\n",
       "\n",
       "    .dataframe tbody tr th {\n",
       "        vertical-align: top;\n",
       "    }\n",
       "\n",
       "    .dataframe thead th {\n",
       "        text-align: right;\n",
       "    }\n",
       "</style>\n",
       "<table border=\"1\" class=\"dataframe\">\n",
       "  <thead>\n",
       "    <tr style=\"text-align: right;\">\n",
       "      <th></th>\n",
       "      <th>unix</th>\n",
       "      <th>date</th>\n",
       "      <th>open</th>\n",
       "      <th>high</th>\n",
       "      <th>low</th>\n",
       "      <th>close</th>\n",
       "      <th>volume</th>\n",
       "    </tr>\n",
       "  </thead>\n",
       "  <tbody>\n",
       "    <tr>\n",
       "      <th>79490</th>\n",
       "      <td>1652274180</td>\n",
       "      <td>2022-05-11 13:03:00</td>\n",
       "      <td>29551.27</td>\n",
       "      <td>29551.49</td>\n",
       "      <td>29512.37</td>\n",
       "      <td>29531.27</td>\n",
       "      <td>4.147782</td>\n",
       "    </tr>\n",
       "    <tr>\n",
       "      <th>79491</th>\n",
       "      <td>1652274420</td>\n",
       "      <td>2022-05-11 13:07:00</td>\n",
       "      <td>29491.03</td>\n",
       "      <td>29553.99</td>\n",
       "      <td>29335.56</td>\n",
       "      <td>29456.54</td>\n",
       "      <td>258.530107</td>\n",
       "    </tr>\n",
       "    <tr>\n",
       "      <th>79492</th>\n",
       "      <td>1652274480</td>\n",
       "      <td>2022-05-11 13:08:00</td>\n",
       "      <td>29456.29</td>\n",
       "      <td>29518.29</td>\n",
       "      <td>29405.60</td>\n",
       "      <td>29497.13</td>\n",
       "      <td>56.480341</td>\n",
       "    </tr>\n",
       "    <tr>\n",
       "      <th>79493</th>\n",
       "      <td>1652274540</td>\n",
       "      <td>2022-05-11 13:09:00</td>\n",
       "      <td>29497.13</td>\n",
       "      <td>29510.62</td>\n",
       "      <td>29287.44</td>\n",
       "      <td>29408.41</td>\n",
       "      <td>76.659736</td>\n",
       "    </tr>\n",
       "    <tr>\n",
       "      <th>79494</th>\n",
       "      <td>1652274600</td>\n",
       "      <td>2022-05-11 13:10:00</td>\n",
       "      <td>29404.81</td>\n",
       "      <td>29475.34</td>\n",
       "      <td>29311.77</td>\n",
       "      <td>29376.22</td>\n",
       "      <td>36.674159</td>\n",
       "    </tr>\n",
       "  </tbody>\n",
       "</table>\n",
       "</div>"
      ],
      "text/plain": [
       "             unix                date      open      high       low     close  \\\n",
       "79490  1652274180 2022-05-11 13:03:00  29551.27  29551.49  29512.37  29531.27   \n",
       "79491  1652274420 2022-05-11 13:07:00  29491.03  29553.99  29335.56  29456.54   \n",
       "79492  1652274480 2022-05-11 13:08:00  29456.29  29518.29  29405.60  29497.13   \n",
       "79493  1652274540 2022-05-11 13:09:00  29497.13  29510.62  29287.44  29408.41   \n",
       "79494  1652274600 2022-05-11 13:10:00  29404.81  29475.34  29311.77  29376.22   \n",
       "\n",
       "           volume  \n",
       "79490    4.147782  \n",
       "79491  258.530107  \n",
       "79492   56.480341  \n",
       "79493   76.659736  \n",
       "79494   36.674159  "
      ]
     },
     "execution_count": 17,
     "metadata": {},
     "output_type": "execute_result"
    }
   ],
   "source": [
    "df_2022 = fill_data(timeStart_2022)\n",
    "df_2022.tail()"
   ]
  },
  {
   "cell_type": "markdown",
   "id": "2e7a4177",
   "metadata": {},
   "source": [
    "---\n",
    "\n",
    "## 🪄 🧬 Putting in all together"
   ]
  },
  {
   "cell_type": "code",
   "execution_count": 18,
   "id": "4d81fab3",
   "metadata": {},
   "outputs": [
    {
     "data": {
      "text/html": [
       "<div>\n",
       "<style scoped>\n",
       "    .dataframe tbody tr th:only-of-type {\n",
       "        vertical-align: middle;\n",
       "    }\n",
       "\n",
       "    .dataframe tbody tr th {\n",
       "        vertical-align: top;\n",
       "    }\n",
       "\n",
       "    .dataframe thead th {\n",
       "        text-align: right;\n",
       "    }\n",
       "</style>\n",
       "<table border=\"1\" class=\"dataframe\">\n",
       "  <thead>\n",
       "    <tr style=\"text-align: right;\">\n",
       "      <th></th>\n",
       "      <th>unix</th>\n",
       "      <th>date</th>\n",
       "      <th>open</th>\n",
       "      <th>high</th>\n",
       "      <th>low</th>\n",
       "      <th>close</th>\n",
       "      <th>volume</th>\n",
       "    </tr>\n",
       "  </thead>\n",
       "  <tbody>\n",
       "    <tr>\n",
       "      <th>0</th>\n",
       "      <td>1325317920</td>\n",
       "      <td>2011-12-31 09:52:00</td>\n",
       "      <td>4.39</td>\n",
       "      <td>4.39</td>\n",
       "      <td>4.39</td>\n",
       "      <td>4.39</td>\n",
       "      <td>2.000000</td>\n",
       "    </tr>\n",
       "    <tr>\n",
       "      <th>1</th>\n",
       "      <td>1325346600</td>\n",
       "      <td>2011-12-31 17:50:00</td>\n",
       "      <td>4.39</td>\n",
       "      <td>4.39</td>\n",
       "      <td>4.39</td>\n",
       "      <td>4.39</td>\n",
       "      <td>210.720000</td>\n",
       "    </tr>\n",
       "    <tr>\n",
       "      <th>2</th>\n",
       "      <td>1325350740</td>\n",
       "      <td>2011-12-31 18:59:00</td>\n",
       "      <td>4.50</td>\n",
       "      <td>4.57</td>\n",
       "      <td>4.50</td>\n",
       "      <td>4.57</td>\n",
       "      <td>171.380338</td>\n",
       "    </tr>\n",
       "    <tr>\n",
       "      <th>3</th>\n",
       "      <td>1325350800</td>\n",
       "      <td>2011-12-31 19:00:00</td>\n",
       "      <td>4.58</td>\n",
       "      <td>4.58</td>\n",
       "      <td>4.58</td>\n",
       "      <td>4.58</td>\n",
       "      <td>41.220000</td>\n",
       "    </tr>\n",
       "    <tr>\n",
       "      <th>4</th>\n",
       "      <td>1325391360</td>\n",
       "      <td>2012-01-01 06:16:00</td>\n",
       "      <td>4.58</td>\n",
       "      <td>4.58</td>\n",
       "      <td>4.58</td>\n",
       "      <td>4.58</td>\n",
       "      <td>6.879160</td>\n",
       "    </tr>\n",
       "  </tbody>\n",
       "</table>\n",
       "</div>"
      ],
      "text/plain": [
       "         unix                date  open  high   low  close      volume\n",
       "0  1325317920 2011-12-31 09:52:00  4.39  4.39  4.39   4.39    2.000000\n",
       "1  1325346600 2011-12-31 17:50:00  4.39  4.39  4.39   4.39  210.720000\n",
       "2  1325350740 2011-12-31 18:59:00  4.50  4.57  4.50   4.57  171.380338\n",
       "3  1325350800 2011-12-31 19:00:00  4.58  4.58  4.58   4.58   41.220000\n",
       "4  1325391360 2012-01-01 06:16:00  4.58  4.58  4.58   4.58    6.879160"
      ]
     },
     "execution_count": 18,
     "metadata": {},
     "output_type": "execute_result"
    }
   ],
   "source": [
    "bitcoin_price = pd.concat([df_2011_2020,df_2020,df_2020_2022,df_2022],ignore_index = True)\n",
    "bitcoin_price.head()"
   ]
  },
  {
   "cell_type": "code",
   "execution_count": 19,
   "id": "265afd74",
   "metadata": {},
   "outputs": [
    {
     "data": {
      "text/html": [
       "<div>\n",
       "<style scoped>\n",
       "    .dataframe tbody tr th:only-of-type {\n",
       "        vertical-align: middle;\n",
       "    }\n",
       "\n",
       "    .dataframe tbody tr th {\n",
       "        vertical-align: top;\n",
       "    }\n",
       "\n",
       "    .dataframe thead th {\n",
       "        text-align: right;\n",
       "    }\n",
       "</style>\n",
       "<table border=\"1\" class=\"dataframe\">\n",
       "  <thead>\n",
       "    <tr style=\"text-align: right;\">\n",
       "      <th></th>\n",
       "      <th>unix</th>\n",
       "      <th>date</th>\n",
       "      <th>open</th>\n",
       "      <th>high</th>\n",
       "      <th>low</th>\n",
       "      <th>close</th>\n",
       "      <th>volume</th>\n",
       "    </tr>\n",
       "  </thead>\n",
       "  <tbody>\n",
       "    <tr>\n",
       "      <th>4186986</th>\n",
       "      <td>1652274180</td>\n",
       "      <td>2022-05-11 13:03:00</td>\n",
       "      <td>29551.27</td>\n",
       "      <td>29551.49</td>\n",
       "      <td>29512.37</td>\n",
       "      <td>29531.27</td>\n",
       "      <td>4.147782</td>\n",
       "    </tr>\n",
       "    <tr>\n",
       "      <th>4186987</th>\n",
       "      <td>1652274420</td>\n",
       "      <td>2022-05-11 13:07:00</td>\n",
       "      <td>29491.03</td>\n",
       "      <td>29553.99</td>\n",
       "      <td>29335.56</td>\n",
       "      <td>29456.54</td>\n",
       "      <td>258.530107</td>\n",
       "    </tr>\n",
       "    <tr>\n",
       "      <th>4186988</th>\n",
       "      <td>1652274480</td>\n",
       "      <td>2022-05-11 13:08:00</td>\n",
       "      <td>29456.29</td>\n",
       "      <td>29518.29</td>\n",
       "      <td>29405.60</td>\n",
       "      <td>29497.13</td>\n",
       "      <td>56.480341</td>\n",
       "    </tr>\n",
       "    <tr>\n",
       "      <th>4186989</th>\n",
       "      <td>1652274540</td>\n",
       "      <td>2022-05-11 13:09:00</td>\n",
       "      <td>29497.13</td>\n",
       "      <td>29510.62</td>\n",
       "      <td>29287.44</td>\n",
       "      <td>29408.41</td>\n",
       "      <td>76.659736</td>\n",
       "    </tr>\n",
       "    <tr>\n",
       "      <th>4186990</th>\n",
       "      <td>1652274600</td>\n",
       "      <td>2022-05-11 13:10:00</td>\n",
       "      <td>29404.81</td>\n",
       "      <td>29475.34</td>\n",
       "      <td>29311.77</td>\n",
       "      <td>29376.22</td>\n",
       "      <td>36.674159</td>\n",
       "    </tr>\n",
       "  </tbody>\n",
       "</table>\n",
       "</div>"
      ],
      "text/plain": [
       "               unix                date      open      high       low  \\\n",
       "4186986  1652274180 2022-05-11 13:03:00  29551.27  29551.49  29512.37   \n",
       "4186987  1652274420 2022-05-11 13:07:00  29491.03  29553.99  29335.56   \n",
       "4186988  1652274480 2022-05-11 13:08:00  29456.29  29518.29  29405.60   \n",
       "4186989  1652274540 2022-05-11 13:09:00  29497.13  29510.62  29287.44   \n",
       "4186990  1652274600 2022-05-11 13:10:00  29404.81  29475.34  29311.77   \n",
       "\n",
       "            close      volume  \n",
       "4186986  29531.27    4.147782  \n",
       "4186987  29456.54  258.530107  \n",
       "4186988  29497.13   56.480341  \n",
       "4186989  29408.41   76.659736  \n",
       "4186990  29376.22   36.674159  "
      ]
     },
     "execution_count": 19,
     "metadata": {},
     "output_type": "execute_result"
    }
   ],
   "source": [
    "bitcoin_price.tail()"
   ]
  },
  {
   "cell_type": "code",
   "execution_count": 26,
   "id": "b6ff71a1",
   "metadata": {},
   "outputs": [
    {
     "name": "stdout",
     "output_type": "stream",
     "text": [
      "<class 'pandas.core.frame.DataFrame'>\n",
      "RangeIndex: 4186991 entries, 0 to 4186990\n",
      "Data columns (total 7 columns):\n",
      " #   Column  Dtype         \n",
      "---  ------  -----         \n",
      " 0   unix    int64         \n",
      " 1   date    datetime64[ns]\n",
      " 2   open    float64       \n",
      " 3   high    float64       \n",
      " 4   low     float64       \n",
      " 5   close   float64       \n",
      " 6   volume  float64       \n",
      "dtypes: datetime64[ns](1), float64(5), int64(1)\n",
      "memory usage: 223.6 MB\n"
     ]
    }
   ],
   "source": [
    "bitcoin_price.info()"
   ]
  },
  {
   "cell_type": "markdown",
   "id": "523df5e8",
   "metadata": {},
   "source": [
    "---\n",
    "\n",
    "## 📝 Downloading CSV File"
   ]
  },
  {
   "cell_type": "code",
   "execution_count": 20,
   "id": "e8c3ab7f",
   "metadata": {},
   "outputs": [],
   "source": [
    "bitcoin_price.to_csv('data/bitcoin_price.csv')"
   ]
  },
  {
   "cell_type": "markdown",
   "id": "d1a344e3",
   "metadata": {},
   "source": [
    "---\n",
    "\n",
    "## 🔮 🕵🏻‍♂️ Another Way"
   ]
  },
  {
   "cell_type": "code",
   "execution_count": 47,
   "id": "88fce3f6",
   "metadata": {},
   "outputs": [
    {
     "data": {
      "text/html": [
       "<div>\n",
       "<style scoped>\n",
       "    .dataframe tbody tr th:only-of-type {\n",
       "        vertical-align: middle;\n",
       "    }\n",
       "\n",
       "    .dataframe tbody tr th {\n",
       "        vertical-align: top;\n",
       "    }\n",
       "\n",
       "    .dataframe thead th {\n",
       "        text-align: right;\n",
       "    }\n",
       "</style>\n",
       "<table border=\"1\" class=\"dataframe\">\n",
       "  <thead>\n",
       "    <tr style=\"text-align: right;\">\n",
       "      <th></th>\n",
       "      <th>Open</th>\n",
       "      <th>High</th>\n",
       "      <th>Low</th>\n",
       "      <th>Close</th>\n",
       "      <th>Volume</th>\n",
       "      <th>Dividends</th>\n",
       "      <th>Stock Splits</th>\n",
       "    </tr>\n",
       "    <tr>\n",
       "      <th>Datetime</th>\n",
       "      <th></th>\n",
       "      <th></th>\n",
       "      <th></th>\n",
       "      <th></th>\n",
       "      <th></th>\n",
       "      <th></th>\n",
       "      <th></th>\n",
       "    </tr>\n",
       "  </thead>\n",
       "  <tbody>\n",
       "    <tr>\n",
       "      <th>2022-06-11 21:00:00+00:00</th>\n",
       "      <td>28435.460938</td>\n",
       "      <td>28435.460938</td>\n",
       "      <td>28435.460938</td>\n",
       "      <td>28435.460938</td>\n",
       "      <td>5130240</td>\n",
       "      <td>0</td>\n",
       "      <td>0</td>\n",
       "    </tr>\n",
       "    <tr>\n",
       "      <th>2022-06-11 21:01:00+00:00</th>\n",
       "      <td>28418.771484</td>\n",
       "      <td>28418.771484</td>\n",
       "      <td>28418.771484</td>\n",
       "      <td>28418.771484</td>\n",
       "      <td>0</td>\n",
       "      <td>0</td>\n",
       "      <td>0</td>\n",
       "    </tr>\n",
       "    <tr>\n",
       "      <th>2022-06-11 21:02:00+00:00</th>\n",
       "      <td>28414.580078</td>\n",
       "      <td>28414.580078</td>\n",
       "      <td>28414.580078</td>\n",
       "      <td>28414.580078</td>\n",
       "      <td>0</td>\n",
       "      <td>0</td>\n",
       "      <td>0</td>\n",
       "    </tr>\n",
       "    <tr>\n",
       "      <th>2022-06-11 21:03:00+00:00</th>\n",
       "      <td>28414.052734</td>\n",
       "      <td>28414.052734</td>\n",
       "      <td>28414.052734</td>\n",
       "      <td>28414.052734</td>\n",
       "      <td>380928</td>\n",
       "      <td>0</td>\n",
       "      <td>0</td>\n",
       "    </tr>\n",
       "    <tr>\n",
       "      <th>2022-06-11 21:04:00+00:00</th>\n",
       "      <td>28431.378906</td>\n",
       "      <td>28431.378906</td>\n",
       "      <td>28431.378906</td>\n",
       "      <td>28431.378906</td>\n",
       "      <td>1417216</td>\n",
       "      <td>0</td>\n",
       "      <td>0</td>\n",
       "    </tr>\n",
       "  </tbody>\n",
       "</table>\n",
       "</div>"
      ],
      "text/plain": [
       "                                   Open          High           Low  \\\n",
       "Datetime                                                              \n",
       "2022-06-11 21:00:00+00:00  28435.460938  28435.460938  28435.460938   \n",
       "2022-06-11 21:01:00+00:00  28418.771484  28418.771484  28418.771484   \n",
       "2022-06-11 21:02:00+00:00  28414.580078  28414.580078  28414.580078   \n",
       "2022-06-11 21:03:00+00:00  28414.052734  28414.052734  28414.052734   \n",
       "2022-06-11 21:04:00+00:00  28431.378906  28431.378906  28431.378906   \n",
       "\n",
       "                                  Close   Volume  Dividends  Stock Splits  \n",
       "Datetime                                                                   \n",
       "2022-06-11 21:00:00+00:00  28435.460938  5130240          0             0  \n",
       "2022-06-11 21:01:00+00:00  28418.771484        0          0             0  \n",
       "2022-06-11 21:02:00+00:00  28414.580078        0          0             0  \n",
       "2022-06-11 21:03:00+00:00  28414.052734   380928          0             0  \n",
       "2022-06-11 21:04:00+00:00  28431.378906  1417216          0             0  "
      ]
     },
     "execution_count": 47,
     "metadata": {},
     "output_type": "execute_result"
    }
   ],
   "source": [
    "df = yf.Ticker('BTC-USD').history(\n",
    "    period = '7d',\n",
    "    interval = '1m'\n",
    ")\n",
    "df.tail()"
   ]
  },
  {
   "cell_type": "code",
   "execution_count": 48,
   "id": "4b46e663",
   "metadata": {},
   "outputs": [
    {
     "data": {
      "text/plain": [
       "min   2022-06-05 00:00:00+00:00\n",
       "max   2022-06-11 21:04:00+00:00\n",
       "Name: Datetime, dtype: datetime64[ns, UTC]"
      ]
     },
     "execution_count": 48,
     "metadata": {},
     "output_type": "execute_result"
    }
   ],
   "source": [
    "df.reset_index().Datetime.agg(['min', 'max'])"
   ]
  },
  {
   "cell_type": "markdown",
   "id": "d595fa2d",
   "metadata": {},
   "source": [
    "---"
   ]
  }
 ],
 "metadata": {
  "kernelspec": {
   "display_name": "Python 3",
   "language": "python",
   "name": "python3"
  },
  "language_info": {
   "codemirror_mode": {
    "name": "ipython",
    "version": 3
   },
   "file_extension": ".py",
   "mimetype": "text/x-python",
   "name": "python",
   "nbconvert_exporter": "python",
   "pygments_lexer": "ipython3",
   "version": "3.8.8"
  }
 },
 "nbformat": 4,
 "nbformat_minor": 5
}
